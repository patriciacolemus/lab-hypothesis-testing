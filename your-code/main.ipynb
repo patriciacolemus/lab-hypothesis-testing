{
  "cells": [
    {
      "cell_type": "markdown",
      "metadata": {
        "id": "jY0uLccbst0v"
      },
      "source": [
        "# Before your start:\n",
        "- Read the README.md file\n",
        "- Comment as much as you can and use the resources (README.md file)\n",
        "- Happy learning!"
      ]
    },
    {
      "cell_type": "code",
      "execution_count": 30,
      "metadata": {
        "id": "yUyimZDist00"
      },
      "outputs": [],
      "source": [
        "# import numpy and pandas\n",
        "import numpy as np\n",
        "import pandas as pd"
      ]
    },
    {
      "cell_type": "markdown",
      "metadata": {
        "id": "DV7XBlmDst01"
      },
      "source": [
        "# Challenge 1 - Exploring the Data\n",
        "\n",
        "In this challenge, we will examine all salaries of employees of the City of Chicago. We will start by loading the dataset and examining its contents"
      ]
    },
    {
      "cell_type": "code",
      "source": [
        "from google.colab import drive\n",
        "drive.mount('/content/drive')"
      ],
      "metadata": {
        "colab": {
          "base_uri": "https://localhost:8080/"
        },
        "id": "oBjNXVt5t9mS",
        "outputId": "b65a2795-04cb-44cc-f498-d6e743c8d7cc"
      },
      "execution_count": 31,
      "outputs": [
        {
          "output_type": "stream",
          "name": "stdout",
          "text": [
            "Drive already mounted at /content/drive; to attempt to forcibly remount, call drive.mount(\"/content/drive\", force_remount=True).\n"
          ]
        }
      ]
    },
    {
      "cell_type": "code",
      "execution_count": 32,
      "metadata": {
        "id": "iOFSRFIAst02"
      },
      "outputs": [],
      "source": [
        "# Run this code:\n",
        "\n",
        "#salaries = pd.read_csv('../Current_Employee_Names__Salaries__and_Position_Titles.csv')\n",
        "salaries = pd.read_csv('/content/drive/MyDrive/Ironhack/Laboratorios/lab-hypothesis-testing/Current_Employee_Names__Salaries__and_Position_Titles.csv')"
      ]
    },
    {
      "cell_type": "markdown",
      "metadata": {
        "id": "45XDYQnyst03"
      },
      "source": [
        "Examine the `salaries` dataset using the `head` function below."
      ]
    },
    {
      "cell_type": "code",
      "execution_count": null,
      "metadata": {
        "id": "3d8GA8FLst03",
        "colab": {
          "base_uri": "https://localhost:8080/",
          "height": 302
        },
        "outputId": "51c98fc0-6de3-4851-cd49-1c7f0482378d"
      },
      "outputs": [
        {
          "output_type": "execute_result",
          "data": {
            "text/html": [
              "\n",
              "  <div id=\"df-5e42223f-ac10-41de-873c-521d6c8239e8\">\n",
              "    <div class=\"colab-df-container\">\n",
              "      <div>\n",
              "<style scoped>\n",
              "    .dataframe tbody tr th:only-of-type {\n",
              "        vertical-align: middle;\n",
              "    }\n",
              "\n",
              "    .dataframe tbody tr th {\n",
              "        vertical-align: top;\n",
              "    }\n",
              "\n",
              "    .dataframe thead th {\n",
              "        text-align: right;\n",
              "    }\n",
              "</style>\n",
              "<table border=\"1\" class=\"dataframe\">\n",
              "  <thead>\n",
              "    <tr style=\"text-align: right;\">\n",
              "      <th></th>\n",
              "      <th>Name</th>\n",
              "      <th>Job Titles</th>\n",
              "      <th>Department</th>\n",
              "      <th>Full or Part-Time</th>\n",
              "      <th>Salary or Hourly</th>\n",
              "      <th>Typical Hours</th>\n",
              "      <th>Annual Salary</th>\n",
              "      <th>Hourly Rate</th>\n",
              "    </tr>\n",
              "  </thead>\n",
              "  <tbody>\n",
              "    <tr>\n",
              "      <th>0</th>\n",
              "      <td>AARON,  JEFFERY M</td>\n",
              "      <td>SERGEANT</td>\n",
              "      <td>POLICE</td>\n",
              "      <td>F</td>\n",
              "      <td>Salary</td>\n",
              "      <td>NaN</td>\n",
              "      <td>101442.0</td>\n",
              "      <td>NaN</td>\n",
              "    </tr>\n",
              "    <tr>\n",
              "      <th>1</th>\n",
              "      <td>AARON,  KARINA</td>\n",
              "      <td>POLICE OFFICER (ASSIGNED AS DETECTIVE)</td>\n",
              "      <td>POLICE</td>\n",
              "      <td>F</td>\n",
              "      <td>Salary</td>\n",
              "      <td>NaN</td>\n",
              "      <td>94122.0</td>\n",
              "      <td>NaN</td>\n",
              "    </tr>\n",
              "    <tr>\n",
              "      <th>2</th>\n",
              "      <td>AARON,  KIMBERLEI R</td>\n",
              "      <td>CHIEF CONTRACT EXPEDITER</td>\n",
              "      <td>GENERAL SERVICES</td>\n",
              "      <td>F</td>\n",
              "      <td>Salary</td>\n",
              "      <td>NaN</td>\n",
              "      <td>101592.0</td>\n",
              "      <td>NaN</td>\n",
              "    </tr>\n",
              "    <tr>\n",
              "      <th>3</th>\n",
              "      <td>ABAD JR,  VICENTE M</td>\n",
              "      <td>CIVIL ENGINEER IV</td>\n",
              "      <td>WATER MGMNT</td>\n",
              "      <td>F</td>\n",
              "      <td>Salary</td>\n",
              "      <td>NaN</td>\n",
              "      <td>110064.0</td>\n",
              "      <td>NaN</td>\n",
              "    </tr>\n",
              "    <tr>\n",
              "      <th>4</th>\n",
              "      <td>ABASCAL,  REECE E</td>\n",
              "      <td>TRAFFIC CONTROL AIDE-HOURLY</td>\n",
              "      <td>OEMC</td>\n",
              "      <td>P</td>\n",
              "      <td>Hourly</td>\n",
              "      <td>20.0</td>\n",
              "      <td>NaN</td>\n",
              "      <td>19.86</td>\n",
              "    </tr>\n",
              "  </tbody>\n",
              "</table>\n",
              "</div>\n",
              "      <button class=\"colab-df-convert\" onclick=\"convertToInteractive('df-5e42223f-ac10-41de-873c-521d6c8239e8')\"\n",
              "              title=\"Convert this dataframe to an interactive table.\"\n",
              "              style=\"display:none;\">\n",
              "        \n",
              "  <svg xmlns=\"http://www.w3.org/2000/svg\" height=\"24px\"viewBox=\"0 0 24 24\"\n",
              "       width=\"24px\">\n",
              "    <path d=\"M0 0h24v24H0V0z\" fill=\"none\"/>\n",
              "    <path d=\"M18.56 5.44l.94 2.06.94-2.06 2.06-.94-2.06-.94-.94-2.06-.94 2.06-2.06.94zm-11 1L8.5 8.5l.94-2.06 2.06-.94-2.06-.94L8.5 2.5l-.94 2.06-2.06.94zm10 10l.94 2.06.94-2.06 2.06-.94-2.06-.94-.94-2.06-.94 2.06-2.06.94z\"/><path d=\"M17.41 7.96l-1.37-1.37c-.4-.4-.92-.59-1.43-.59-.52 0-1.04.2-1.43.59L10.3 9.45l-7.72 7.72c-.78.78-.78 2.05 0 2.83L4 21.41c.39.39.9.59 1.41.59.51 0 1.02-.2 1.41-.59l7.78-7.78 2.81-2.81c.8-.78.8-2.07 0-2.86zM5.41 20L4 18.59l7.72-7.72 1.47 1.35L5.41 20z\"/>\n",
              "  </svg>\n",
              "      </button>\n",
              "      \n",
              "  <style>\n",
              "    .colab-df-container {\n",
              "      display:flex;\n",
              "      flex-wrap:wrap;\n",
              "      gap: 12px;\n",
              "    }\n",
              "\n",
              "    .colab-df-convert {\n",
              "      background-color: #E8F0FE;\n",
              "      border: none;\n",
              "      border-radius: 50%;\n",
              "      cursor: pointer;\n",
              "      display: none;\n",
              "      fill: #1967D2;\n",
              "      height: 32px;\n",
              "      padding: 0 0 0 0;\n",
              "      width: 32px;\n",
              "    }\n",
              "\n",
              "    .colab-df-convert:hover {\n",
              "      background-color: #E2EBFA;\n",
              "      box-shadow: 0px 1px 2px rgba(60, 64, 67, 0.3), 0px 1px 3px 1px rgba(60, 64, 67, 0.15);\n",
              "      fill: #174EA6;\n",
              "    }\n",
              "\n",
              "    [theme=dark] .colab-df-convert {\n",
              "      background-color: #3B4455;\n",
              "      fill: #D2E3FC;\n",
              "    }\n",
              "\n",
              "    [theme=dark] .colab-df-convert:hover {\n",
              "      background-color: #434B5C;\n",
              "      box-shadow: 0px 1px 3px 1px rgba(0, 0, 0, 0.15);\n",
              "      filter: drop-shadow(0px 1px 2px rgba(0, 0, 0, 0.3));\n",
              "      fill: #FFFFFF;\n",
              "    }\n",
              "  </style>\n",
              "\n",
              "      <script>\n",
              "        const buttonEl =\n",
              "          document.querySelector('#df-5e42223f-ac10-41de-873c-521d6c8239e8 button.colab-df-convert');\n",
              "        buttonEl.style.display =\n",
              "          google.colab.kernel.accessAllowed ? 'block' : 'none';\n",
              "\n",
              "        async function convertToInteractive(key) {\n",
              "          const element = document.querySelector('#df-5e42223f-ac10-41de-873c-521d6c8239e8');\n",
              "          const dataTable =\n",
              "            await google.colab.kernel.invokeFunction('convertToInteractive',\n",
              "                                                     [key], {});\n",
              "          if (!dataTable) return;\n",
              "\n",
              "          const docLinkHtml = 'Like what you see? Visit the ' +\n",
              "            '<a target=\"_blank\" href=https://colab.research.google.com/notebooks/data_table.ipynb>data table notebook</a>'\n",
              "            + ' to learn more about interactive tables.';\n",
              "          element.innerHTML = '';\n",
              "          dataTable['output_type'] = 'display_data';\n",
              "          await google.colab.output.renderOutput(dataTable, element);\n",
              "          const docLink = document.createElement('div');\n",
              "          docLink.innerHTML = docLinkHtml;\n",
              "          element.appendChild(docLink);\n",
              "        }\n",
              "      </script>\n",
              "    </div>\n",
              "  </div>\n",
              "  "
            ],
            "text/plain": [
              "                  Name  ... Hourly Rate\n",
              "0    AARON,  JEFFERY M  ...         NaN\n",
              "1      AARON,  KARINA   ...         NaN\n",
              "2  AARON,  KIMBERLEI R  ...         NaN\n",
              "3  ABAD JR,  VICENTE M  ...         NaN\n",
              "4    ABASCAL,  REECE E  ...       19.86\n",
              "\n",
              "[5 rows x 8 columns]"
            ]
          },
          "metadata": {},
          "execution_count": 5
        }
      ],
      "source": [
        "# Your code here:\n",
        "salaries.head()\n",
        "#salaries.info()"
      ]
    },
    {
      "cell_type": "markdown",
      "metadata": {
        "id": "NJ9OYVihst03"
      },
      "source": [
        "We see from looking at the `head` function that there is quite a bit of missing data. Let's examine how much missing data is in each column. Produce this output in the cell below"
      ]
    },
    {
      "cell_type": "code",
      "execution_count": null,
      "metadata": {
        "id": "OLfivoJ2st04",
        "colab": {
          "base_uri": "https://localhost:8080/"
        },
        "outputId": "2b649f63-421a-4701-c5b9-66f9bbd46f24"
      },
      "outputs": [
        {
          "output_type": "execute_result",
          "data": {
            "text/plain": [
              "Name                     0\n",
              "Job Titles               0\n",
              "Department               0\n",
              "Full or Part-Time        0\n",
              "Salary or Hourly         0\n",
              "Typical Hours        25161\n",
              "Annual Salary         8022\n",
              "Hourly Rate          25161\n",
              "dtype: int64"
            ]
          },
          "metadata": {},
          "execution_count": 6
        }
      ],
      "source": [
        "# Your code here:\n",
        "salaries.isnull().sum()"
      ]
    },
    {
      "cell_type": "markdown",
      "metadata": {
        "id": "UB9oQqq8st05"
      },
      "source": [
        "Let's also look at the count of hourly vs. salaried employees. Write the code in the cell below"
      ]
    },
    {
      "cell_type": "code",
      "execution_count": null,
      "metadata": {
        "id": "pDACn8Twst06",
        "colab": {
          "base_uri": "https://localhost:8080/"
        },
        "outputId": "2a4cb8c7-7e48-45c8-b501-8ddccff55633"
      },
      "outputs": [
        {
          "output_type": "execute_result",
          "data": {
            "text/plain": [
              "Salary    25161\n",
              "Hourly     8022\n",
              "Name: Salary or Hourly, dtype: int64"
            ]
          },
          "metadata": {},
          "execution_count": 7
        }
      ],
      "source": [
        "# Your code here:\n",
        "salaries['Salary or Hourly'].value_counts()"
      ]
    },
    {
      "cell_type": "markdown",
      "metadata": {
        "id": "dqYoHfCvst07"
      },
      "source": [
        "What this information indicates is that the table contains information about two types of employees - salaried and hourly. Some columns apply only to one type of employee while other columns only apply to another kind. This is why there are so many missing values. Therefore, we will not do anything to handle the missing values."
      ]
    },
    {
      "cell_type": "markdown",
      "metadata": {
        "id": "eUYUVzHFst07"
      },
      "source": [
        "There are different departments in the city. List all departments and the count of employees in each department."
      ]
    },
    {
      "cell_type": "code",
      "execution_count": null,
      "metadata": {
        "id": "iXxQs7XSst08",
        "colab": {
          "base_uri": "https://localhost:8080/"
        },
        "outputId": "b4ddfd93-2163-46b6-9d53-261395f59b35"
      },
      "outputs": [
        {
          "output_type": "execute_result",
          "data": {
            "text/plain": [
              "Department\n",
              "ADMIN HEARNG                39\n",
              "ANIMAL CONTRL               81\n",
              "AVIATION                  1629\n",
              "BOARD OF ELECTION          107\n",
              "BOARD OF ETHICS              8\n",
              "BUDGET & MGMT               46\n",
              "BUILDINGS                  269\n",
              "BUSINESS AFFAIRS           171\n",
              "CITY CLERK                  84\n",
              "CITY COUNCIL               411\n",
              "COMMUNITY DEVELOPMENT      207\n",
              "COPA                       116\n",
              "CULTURAL AFFAIRS            65\n",
              "DISABILITIES                28\n",
              "DoIT                        99\n",
              "FAMILY & SUPPORT           615\n",
              "FINANCE                    560\n",
              "FIRE                      4641\n",
              "GENERAL SERVICES           980\n",
              "HEALTH                     488\n",
              "HUMAN RELATIONS             16\n",
              "HUMAN RESOURCES             79\n",
              "INSPECTOR GEN               87\n",
              "LAW                        407\n",
              "LICENSE APPL COMM            1\n",
              "MAYOR'S OFFICE              85\n",
              "OEMC                      2102\n",
              "POLICE                   13414\n",
              "POLICE BOARD                 2\n",
              "PROCUREMENT                 92\n",
              "PUBLIC LIBRARY            1015\n",
              "STREETS & SAN             2198\n",
              "TRANSPORTN                1140\n",
              "TREASURER                   22\n",
              "WATER MGMNT               1879\n",
              "Name: Name, dtype: int64"
            ]
          },
          "metadata": {},
          "execution_count": 8
        }
      ],
      "source": [
        "# Your code here:\n",
        "salaries.groupby(['Department'])['Name'].count()"
      ]
    },
    {
      "cell_type": "markdown",
      "metadata": {
        "id": "UwQwsSb8st08"
      },
      "source": [
        "# Challenge 2 - Hypothesis Tests\n",
        "\n",
        "In this section of the lab, we will test whether the hourly wage of all hourly workers is significantly different from $30/hr. Import the correct one sample test function from scipy and perform the hypothesis test for a 95% two sided confidence interval."
      ]
    },
    {
      "cell_type": "code",
      "execution_count": null,
      "metadata": {
        "id": "gm8lUR0Lst09"
      },
      "outputs": [],
      "source": [
        "# Your code here:\n",
        "\n",
        "## Libraries\n",
        "import numpy as np\n",
        "from scipy.stats import ttest_1samp"
      ]
    },
    {
      "cell_type": "code",
      "source": [
        "hourly = salaries[salaries['Salary or Hourly'] == 'Hourly'][['Hourly Rate']]\n",
        "ttest_1samp(hourly, 30) # 'ttest_1samp' takes a dataset and a constant for comparison and returns the test statistic and the p value for a 2 sided test\n",
        "\n",
        "# With a p-value of 4.32302405e-92 we can confirm the wage of all hourly workers is statistically differente from $30/h.  "
      ],
      "metadata": {
        "colab": {
          "base_uri": "https://localhost:8080/"
        },
        "id": "dJTitv96zjoQ",
        "outputId": "377aa2fb-8090-4eb4-8307-9e2b2cdbb092"
      },
      "execution_count": null,
      "outputs": [
        {
          "output_type": "execute_result",
          "data": {
            "text/plain": [
              "Ttest_1sampResult(statistic=array([20.61980579]), pvalue=array([4.32302405e-92]))"
            ]
          },
          "metadata": {},
          "execution_count": 10
        }
      ]
    },
    {
      "cell_type": "markdown",
      "metadata": {
        "id": "VBYxc-0Rst09"
      },
      "source": [
        "We are also curious about salaries in the police force. The chief of police in Chicago claimed in a press briefing that salaries this year are higher than last year's mean of $86000/year a year for all salaried employees. Test this one sided hypothesis using a 95% confidence interval.\n",
        "\n",
        "Hint: A one tailed test has a p-value that is half of the two tailed p-value. If our hypothesis is greater than, then to reject, the test statistic must also be positive."
      ]
    },
    {
      "cell_type": "code",
      "execution_count": null,
      "metadata": {
        "id": "NUxrB6fTst09",
        "colab": {
          "base_uri": "https://localhost:8080/",
          "height": 236
        },
        "outputId": "85654595-2b4b-43b9-9a55-9e2d64178694"
      },
      "outputs": [
        {
          "output_type": "error",
          "ename": "TypeError",
          "evalue": "ignored",
          "traceback": [
            "\u001b[0;31m---------------------------------------------------------------------------\u001b[0m",
            "\u001b[0;31mTypeError\u001b[0m                                 Traceback (most recent call last)",
            "\u001b[0;32m<ipython-input-13-793a691722c8>\u001b[0m in \u001b[0;36m<module>\u001b[0;34m()\u001b[0m\n\u001b[1;32m      2\u001b[0m \u001b[0mpolice\u001b[0m \u001b[0;34m=\u001b[0m \u001b[0msalaries\u001b[0m\u001b[0;34m[\u001b[0m\u001b[0msalaries\u001b[0m\u001b[0;34m[\u001b[0m\u001b[0;34m'Department'\u001b[0m\u001b[0;34m]\u001b[0m \u001b[0;34m==\u001b[0m \u001b[0;34m'POLICE'\u001b[0m\u001b[0;34m]\u001b[0m\u001b[0;34m[\u001b[0m\u001b[0;34m[\u001b[0m\u001b[0;34m'Annual Salary'\u001b[0m\u001b[0;34m]\u001b[0m\u001b[0;34m]\u001b[0m\u001b[0;34m\u001b[0m\u001b[0;34m\u001b[0m\u001b[0m\n\u001b[1;32m      3\u001b[0m \u001b[0mpolice\u001b[0m\u001b[0;34m=\u001b[0m \u001b[0mpolice\u001b[0m\u001b[0;34m.\u001b[0m\u001b[0mdropna\u001b[0m\u001b[0;34m(\u001b[0m\u001b[0;34m)\u001b[0m\u001b[0;34m\u001b[0m\u001b[0;34m\u001b[0m\u001b[0m\n\u001b[0;32m----> 4\u001b[0;31m \u001b[0mttest_1samp\u001b[0m\u001b[0;34m(\u001b[0m\u001b[0mpolice\u001b[0m\u001b[0;34m,\u001b[0m \u001b[0;36m86_000\u001b[0m\u001b[0;34m,\u001b[0m \u001b[0malternative\u001b[0m\u001b[0;34m=\u001b[0m\u001b[0;34m'greater'\u001b[0m\u001b[0;34m)\u001b[0m\u001b[0;34m\u001b[0m\u001b[0;34m\u001b[0m\u001b[0m\n\u001b[0m\u001b[1;32m      5\u001b[0m \u001b[0mpval\u001b[0m \u001b[0;34m=\u001b[0m \u001b[0;36m0.00103017\u001b[0m\u001b[0;34m/\u001b[0m\u001b[0;36m2\u001b[0m\u001b[0;34m\u001b[0m\u001b[0;34m\u001b[0m\u001b[0m\n\u001b[1;32m      6\u001b[0m \u001b[0mpval\u001b[0m\u001b[0;34m\u001b[0m\u001b[0;34m\u001b[0m\u001b[0m\n",
            "\u001b[0;31mTypeError\u001b[0m: ttest_1samp() got an unexpected keyword argument 'alternative'"
          ]
        }
      ],
      "source": [
        "# Your code here:\n",
        "police = salaries[salaries['Department'] == 'POLICE'][['Annual Salary']]\n",
        "police= police.dropna()\n",
        "ttest_1samp(police, 86_000, alternative='greater')\n",
        "pval = 0.00103017/2\n",
        "pval"
      ]
    },
    {
      "cell_type": "code",
      "source": [
        "# Given a P-vale of 0.000515085, we can confirm the salaries this year are statistically higher than last year's mean of $86000/year a year for all salaried employees"
      ],
      "metadata": {
        "id": "9Xtqaqbh5rwI"
      },
      "execution_count": null,
      "outputs": []
    },
    {
      "cell_type": "markdown",
      "metadata": {
        "id": "rfKPlC5Ist0-"
      },
      "source": [
        "Using the `crosstab` function, find the department that has the most hourly workers. "
      ]
    },
    {
      "cell_type": "code",
      "execution_count": null,
      "metadata": {
        "id": "8ec6ewCdst0-"
      },
      "outputs": [],
      "source": [
        "# Your code here:\n",
        "departments = salaries[salaries['Salary or Hourly'] == 'Hourly']\n",
        "pd.crosstab(departments.Department, departments['Salary or Hourly']).sort_values('Hourly',ascending=False)"
      ]
    },
    {
      "cell_type": "markdown",
      "metadata": {
        "id": "RqWJa-e9st0-"
      },
      "source": [
        "The workers from the department with the most hourly workers have complained that their hourly wage is less than $35/hour. Using a one sample t-test, test this one-sided hypothesis at the 95% confidence level."
      ]
    },
    {
      "cell_type": "code",
      "execution_count": null,
      "metadata": {
        "id": "nYmTMxExst0_",
        "colab": {
          "base_uri": "https://localhost:8080/"
        },
        "outputId": "a1a175a8-a23d-4d18-cee4-fef4927a4e90"
      },
      "outputs": [
        {
          "output_type": "stream",
          "name": "stdout",
          "text": [
            "With a p-value of 1.6689265282353859e-21 we confirm the hourly wage is less than $35/h\n"
          ]
        }
      ],
      "source": [
        "# Your code here:\n",
        "streets=salaries[salaries.Department=='STREETS & SAN']['Hourly Rate'].dropna()\n",
        "ttest_1samp(streets,35)\n",
        "\n",
        "pval = 3.3378530564707717e-21/2\n",
        "print('With a p-value of', pval, 'we confirm the hourly wage is less than $35/h')\n"
      ]
    },
    {
      "cell_type": "markdown",
      "metadata": {
        "id": "CBtm5aB7st0_"
      },
      "source": [
        "# Challenge 3 - Constructing Confidence Intervals\n",
        "\n",
        "While testing our hypothesis is a great way to gather empirical evidence for accepting or rejecting the hypothesis, another way to gather evidence is by creating a confidence interval. A confidence interval gives us information about the true mean of the population. So for a 95% confidence interval, we are 95% sure that the mean of the population is within the confidence interval. \n",
        ").\n",
        "\n",
        "To read more about confidence intervals, click [here](https://en.wikipedia.org/wiki/Confidence_interval).\n",
        "\n",
        "\n",
        "In the cell below, we will construct a 95% confidence interval for the mean hourly wage of all hourly workers. \n",
        "\n",
        "The confidence interval is computed in SciPy using the `t.interval` function. You can read more about this function [here](https://docs.scipy.org/doc/scipy-0.14.0/reference/generated/scipy.stats.t.html).\n",
        "\n",
        "To compute the confidence interval of the hourly wage, use the 0.95 for the confidence level, number of rows - 1 for degrees of freedom, the mean of the sample for the location parameter and the standard error for the scale. The standard error can be computed using [this](https://docs.scipy.org/doc/scipy/reference/generated/scipy.stats.sem.html) function in SciPy."
      ]
    },
    {
      "cell_type": "code",
      "execution_count": 68,
      "metadata": {
        "id": "wTeUPzIzst0_"
      },
      "outputs": [],
      "source": [
        "# Your code here:\n",
        "## Libraries \n",
        "import scipy\n",
        "import scipy.stats as stats\n",
        "from scipy.stats import t\n",
        "from scipy.stats import sem\n",
        "\n",
        "# 95% confidence interval for the mean hourly wage of all hourly workers\n",
        "\n",
        "hr_workers = salaries[salaries['Salary or Hourly'] == 'Hourly'][['Hourly Rate']]\n",
        "            \n",
        "\n",
        "confidence_level = 0.95\n",
        "freedom_degrees = hr_workers.size - 1\n",
        "mean = np.mean(hr_workers)\n",
        "st = sem(hr_workers)"
      ]
    },
    {
      "cell_type": "code",
      "source": [
        "confidence_int = t.interval(confidence_level, degrees_freedom, mean, st)\n",
        "print(confidence_int)\n"
      ],
      "metadata": {
        "id": "oSexzFXToDOk",
        "outputId": "e303ced3-6ee7-437e-f9d0-a84099661657",
        "colab": {
          "base_uri": "https://localhost:8080/"
        }
      },
      "execution_count": 45,
      "outputs": [
        {
          "output_type": "stream",
          "name": "stdout",
          "text": [
            "(32.52345834488529, 33.05365708767727)\n"
          ]
        }
      ]
    },
    {
      "cell_type": "markdown",
      "metadata": {
        "id": "DI60-Mdhst1A"
      },
      "source": [
        "Now construct the 95% confidence interval for all salaried employeed in the police in the cell below."
      ]
    },
    {
      "cell_type": "code",
      "execution_count": 69,
      "metadata": {
        "id": "QSPlbU57st1A",
        "colab": {
          "base_uri": "https://localhost:8080/"
        },
        "outputId": "a1394ead-7b2d-4ed0-b5ed-1a6165be49de"
      },
      "outputs": [
        {
          "output_type": "stream",
          "name": "stdout",
          "text": [
            "(86177.05631531784, 86795.77269094894)\n"
          ]
        }
      ],
      "source": [
        "# Your code here:\n",
        "sal_workers = salaries[(salaries['Salary or Hourly'] == 'Salary') & (salaries['Department'] == 'POLICE')]['Annual Salary'] # o There is no hourly salary for this group\n",
        "  \n",
        "confidence = 0.95\n",
        "freedom = sal_workers.size - 1\n",
        "mean = np.mean(sal_workers)\n",
        "st = sem(sal_workers)\n",
        "\n",
        "confidence_int = t.interval(confidence, freedom, mean, st)\n",
        "print(confidence_int)"
      ]
    },
    {
      "cell_type": "markdown",
      "metadata": {
        "id": "bZSkU8eQst1A"
      },
      "source": [
        "# Challenge 4 - Hypothesis Tests of Proportions\n",
        "\n",
        "Another type of one sample test is a hypothesis test of proportions. In this test, we examine whether the proportion of a group in our sample is significantly different than a fraction. \n",
        "\n",
        "You can read more about one sample proportion tests [here](http://sphweb.bumc.bu.edu/otlt/MPH-Modules/BS/SAS/SAS6-CategoricalData/SAS6-CategoricalData2.html).\n",
        "\n",
        "In the cell below, use the `proportions_ztest` function from `statsmodels` to perform a hypothesis test that will determine whether the number of hourly workers in the City of Chicago is significantly different from 25% at the 95% confidence level."
      ]
    },
    {
      "cell_type": "code",
      "execution_count": 84,
      "metadata": {
        "id": "5g-F6DaAst1A",
        "colab": {
          "base_uri": "https://localhost:8080/"
        },
        "outputId": "a0decc1e-6d49-4acf-d259-1c17a9c049df"
      },
      "outputs": [
        {
          "output_type": "execute_result",
          "data": {
            "text/plain": [
              "(-3.5099964213703005, 0.0004481127249057967)"
            ]
          },
          "metadata": {},
          "execution_count": 84
        }
      ],
      "source": [
        "# Your code here:\n",
        "## Libraries\n",
        "from statsmodels.stats.proportion import proportions_ztest\n",
        "# stat, pval = proportions_ztest(count, nobs, value)\n",
        "\n",
        "chicago_hour = (salaries[salaries['Salary or Hourly']== 'Hourly'])\n",
        "chicago_saly = salaries \n",
        "\n",
        "count = len(chicago_hour)    # Number of successes in nobs trials\n",
        "nobs = len(salaries)         # Number of trials or observations, with the same length as count\n",
        "value = 0.25                 # Value of the null hypothesis equal to the proportion in the case of a one sample test\n",
        "\n",
        "proportions_ztest(count, nobs, value)"
      ]
    },
    {
      "cell_type": "code",
      "source": [
        ""
      ],
      "metadata": {
        "id": "F7JUw-_uIOcx"
      },
      "execution_count": null,
      "outputs": []
    }
  ],
  "metadata": {
    "kernelspec": {
      "display_name": "Python 3",
      "language": "python",
      "name": "python3"
    },
    "language_info": {
      "codemirror_mode": {
        "name": "ipython",
        "version": 3
      },
      "file_extension": ".py",
      "mimetype": "text/x-python",
      "name": "python",
      "nbconvert_exporter": "python",
      "pygments_lexer": "ipython3",
      "version": "3.7.3"
    },
    "colab": {
      "name": "main.ipynb",
      "provenance": [],
      "collapsed_sections": []
    }
  },
  "nbformat": 4,
  "nbformat_minor": 0
}